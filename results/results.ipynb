{
 "cells": [
  {
   "cell_type": "code",
   "execution_count": 140,
   "id": "b2e8c9ac",
   "metadata": {},
   "outputs": [],
   "source": [
    "import numpy as np \n",
    "import pandas as pd\n",
    "import matplotlib.pyplot as plt \n",
    "import seaborn as sns\n",
    "import plotly.express as px \n",
    "import os \n",
    "import results_utils\n",
    "\n",
    "from pathlib import Path\n"
   ]
  },
  {
   "cell_type": "markdown",
   "id": "bb9bc24b",
   "metadata": {},
   "source": [
    "This notebook is simply to obtain the results from the experiments and make plots and tables for the report"
   ]
  },
  {
   "cell_type": "code",
   "execution_count": 141,
   "id": "8a2dedb4",
   "metadata": {},
   "outputs": [
    {
     "name": "stdout",
     "output_type": "stream",
     "text": [
      "iris\n",
      "lr: 0.1 wd: 0.0001 momentum: 0.5 val_f1_macro_mean: 1.0 val_f1_macro_std: 0.0\n",
      "banknote\n",
      "lr: 0.1 wd: 0.0001 momentum: 0.0 val_f1_macro_mean: 0.9600309702212112 val_f1_macro_std: 0.029261620397225185\n",
      "mnist\n",
      "lr: 0.1 wd: 0.001 momentum: 0.0 val_f1_macro_mean: 0.8527430389711093 val_f1_macro_std: 0.010091631694883139\n",
      "sine1d\n",
      "lr: 0.1 wd: 0.0001 momentum: 0.0 val_r2_mean: 0.4843363946811014 val_r2_std: 0.1274022282053113\n",
      "energy\n",
      "lr: 0.1 wd: 0.0 momentum: 0.9 val_r2_mean: 0.9502140579314969 val_r2_std: 0.009785639138914282\n",
      "friedman1\n",
      "lr: 0.1 wd: 0.0001 momentum: 0.9 val_r2_mean: 0.7814269260301053 val_r2_std: 0.033013215178121634\n"
     ]
    }
   ],
   "source": [
    "\n",
    "root = Path(\"../runs\")\n",
    "\n",
    "data = results_utils.aggregate_grid_results(root_dir=root, strategy=\"passive\", dataset=\"iris\", task=\"classification\", metric=\"val_macro_f1\", maximize=True)\n",
    "print(\"iris\")\n",
    "print(f\"lr: {data.iloc[0]['lr']} wd: {data.iloc[0]['weight_decay']} momentum: {data.iloc[0]['momentum']} val_f1_macro_mean: {data.iloc[0]['val_macro_f1_mean']} val_f1_macro_std: {data.iloc[0]['val_macro_f1_std']}\")\n",
    "\n",
    "data = results_utils.aggregate_grid_results(root_dir=root, strategy=\"passive\", dataset=\"banknote\", task=\"classification\", metric=\"val_macro_f1\", maximize=True)\n",
    "print(\"banknote\")\n",
    "print(f\"lr: {data.iloc[0]['lr']} wd: {data.iloc[0]['weight_decay']} momentum: {data.iloc[0]['momentum']} val_f1_macro_mean: {data.iloc[0]['val_macro_f1_mean']} val_f1_macro_std: {data.iloc[0]['val_macro_f1_std']}\")\n",
    "\n",
    "data = results_utils.aggregate_grid_results(root_dir=root, strategy=\"passive\", dataset=\"mnist\", task=\"classification\", metric=\"val_macro_f1\", maximize=True)\n",
    "print(\"mnist\")\n",
    "print(f\"lr: {data.iloc[0]['lr']} wd: {data.iloc[0]['weight_decay']} momentum: {data.iloc[0]['momentum']} val_f1_macro_mean: {data.iloc[0]['val_macro_f1_mean']} val_f1_macro_std: {data.iloc[0]['val_macro_f1_std']}\")\n",
    "\n",
    "data = results_utils.aggregate_grid_results(root_dir=root, strategy=\"passive\", dataset=\"sine1d\", task=\"regression\", metric=\"val_r2\", maximize=True)\n",
    "print(\"sine1d\")\n",
    "print(f\"lr: {data.iloc[0]['lr']} wd: {data.iloc[0]['weight_decay']} momentum: {data.iloc[0]['momentum']} val_r2_mean: {data.iloc[0]['val_r2_mean']} val_r2_std: {data.iloc[0]['val_r2_std']}\")\n",
    "\n",
    "data = results_utils.aggregate_grid_results(root_dir=root, strategy=\"passive\", dataset=\"energy\", task=\"regression\", metric=\"val_r2\", maximize=True)\n",
    "print(\"energy\")\n",
    "print(f\"lr: {data.iloc[0]['lr']} wd: {data.iloc[0]['weight_decay']} momentum: {data.iloc[0]['momentum']} val_r2_mean: {data.iloc[0]['val_r2_mean']} val_r2_std: {data.iloc[0]['val_r2_std']}\")\n",
    "\n",
    "data = results_utils.aggregate_grid_results(root_dir=root, strategy=\"passive\", dataset=\"friedman1\", task=\"regression\", metric=\"val_r2\", maximize=True)\n",
    "print(\"friedman1\")\n",
    "print(f\"lr: {data.iloc[0]['lr']} wd: {data.iloc[0]['weight_decay']} momentum: {data.iloc[0]['momentum']} val_r2_mean: {data.iloc[0]['val_r2_mean']} val_r2_std: {data.iloc[0]['val_r2_std']}\")\n"
   ]
  },
  {
   "cell_type": "code",
   "execution_count": 135,
   "id": "edcdfece",
   "metadata": {},
   "outputs": [
    {
     "name": "stdout",
     "output_type": "stream",
     "text": [
      "iris\n",
      "epochs: 500 us_k_per_round: 5 initial_labeled: 3 val_f1_macro_mean: 0.9775599128540304 val_f1_macro_std: 0.02108117561639883 final_labeled: 13\n",
      "banknote\n",
      "epochs: 100 us_k_per_round: 3 initial_labeled: 3 val_f1_macro_mean: 0.9938599056829961 val_f1_macro_std: 0.0026670032805719028 final_labeled: 24\n",
      "mnist\n",
      "epochs: 1 us_k_per_round: 10 initial_labeled: 10 val_f1_macro_mean: 0.872320410054274 val_f1_macro_std: 0.01675056808845844 final_labeled: 450\n",
      "sine1d\n",
      "epochs: 500 us_k_per_round: 1 initial_labeled: 10 test_r2_mean_mean: 0.9932056728106372 test_r2_mean_std: nan final_labeled: 69\n",
      "energy\n",
      "epochs: 5 us_k_per_round: 1 initial_labeled: 10 test_r2_mean_mean: 0.9739988311718137 test_r2_mean_std: 0.0011147738473289202 final_labeled: 320\n",
      "friedman1\n",
      "epochs: 3 us_k_per_round: 10 initial_labeled: 10 test_r2_mean_mean: 0.9474429491894556 test_r2_mean_std: nan final_labeled: 1188\n"
     ]
    }
   ],
   "source": [
    "# us \n",
    "data = results_utils.aggregate_grid_results(root_dir=root, strategy=\"us\", dataset=\"iris\", task=\"classification\", metric=\"test_macro_f1\", maximize=True)\n",
    "print(\"iris\")\n",
    "print(f\"epochs: {data.iloc[0]['epochs']} us_k_per_round: {data.iloc[0]['us_k_per_round']} initial_labeled: {data.iloc[0]['initial_labeled']} val_f1_macro_mean: {data.iloc[0]['test_macro_f1_mean']} val_f1_macro_std: {data.iloc[0]['test_macro_f1_std']} final_labeled: {data.iloc[0]['final_set']}\")\n",
    "\n",
    "data = results_utils.aggregate_grid_results(root_dir=root, strategy=\"us\", dataset=\"banknote\", task=\"classification\", metric=\"test_macro_f1\", maximize=True)\n",
    "print(\"banknote\")\n",
    "print(f\"epochs: {data.iloc[0]['epochs']} us_k_per_round: {data.iloc[0]['us_k_per_round']} initial_labeled: {data.iloc[0]['initial_labeled']} val_f1_macro_mean: {data.iloc[0]['test_macro_f1_mean']} val_f1_macro_std: {data.iloc[0]['test_macro_f1_std']} final_labeled: {data.iloc[0]['final_set']}\")\n",
    "\n",
    "data = results_utils.aggregate_grid_results(root_dir=root, strategy=\"us\", dataset=\"mnist\", task=\"classification\", metric=\"test_macro_f1\", maximize=True)\n",
    "print(\"mnist\")\n",
    "print(f\"epochs: {data.iloc[0]['epochs']} us_k_per_round: {data.iloc[0]['us_k_per_round']} initial_labeled: {data.iloc[0]['initial_labeled']} val_f1_macro_mean: {data.iloc[0]['test_macro_f1_mean']} val_f1_macro_std: {data.iloc[0]['test_macro_f1_std']} final_labeled: {data.iloc[0]['final_set']}\")\n",
    "\n",
    "data = results_utils.aggregate_grid_results(root_dir=root, strategy=\"us\", dataset=\"sine1d\", task=\"regression\", metric=\"test_r2\", maximize=True)\n",
    "print(\"sine1d\")\n",
    "print(f\"epochs: {data.iloc[0]['epochs']} us_k_per_round: {data.iloc[0]['us_k_per_round']} initial_labeled: {data.iloc[0]['initial_labeled']} test_r2_mean_mean: {data.iloc[0]['test_r2_mean']} test_r2_mean_std: {data.iloc[0]['test_r2_std']} final_labeled: {data.iloc[0]['final_set']}\")\n",
    "\n",
    "data = results_utils.aggregate_grid_results(root_dir=root, strategy=\"us\", dataset=\"energy\", task=\"regression\", metric=\"test_r2\", maximize=True)\n",
    "print(\"energy\")\n",
    "print(f\"epochs: {data.iloc[0]['epochs']} us_k_per_round: {data.iloc[0]['us_k_per_round']} initial_labeled: {data.iloc[0]['initial_labeled']} test_r2_mean_mean: {data.iloc[0]['test_r2_mean']} test_r2_mean_std: {data.iloc[0]['test_r2_std']} final_labeled: {data.iloc[0]['final_set']}\")\n",
    "\n",
    "data = results_utils.aggregate_grid_results(root_dir=root, strategy=\"us\", dataset=\"friedman1\", task=\"regression\", metric=\"test_r2\", maximize=True)\n",
    "print(\"friedman1\")\n",
    "print(f\"epochs: {data.iloc[0]['epochs']} us_k_per_round: {data.iloc[0]['us_k_per_round']} initial_labeled: {data.iloc[0]['initial_labeled']} test_r2_mean_mean: {data.iloc[0]['test_r2_mean']} test_r2_mean_std: {data.iloc[0]['test_r2_std']} final_labeled: {data.iloc[0]['final_set']}\")"
   ]
  },
  {
   "cell_type": "code",
   "execution_count": 138,
   "id": "a3e70de8",
   "metadata": {},
   "outputs": [
    {
     "name": "stdout",
     "output_type": "stream",
     "text": [
      "iris\n",
      "tau: 0.7 val_f1_macro_mean: 1.0 val_f1_macro_std: nan final_labeled: 35\n",
      "banknote\n",
      "tau: 0.5 val_f1_macro_mean: 1.0 val_f1_macro_std: nan final_labeled: 94\n",
      "mnist\n",
      "tau: 0.1 val_f1_macro_mean: 0.8680740323167857 val_f1_macro_std: nan final_labeled: 631\n",
      "sine1d\n"
     ]
    },
    {
     "ename": "KeyError",
     "evalue": "'test_macro_f1_mean'",
     "output_type": "error",
     "traceback": [
      "\u001b[0;31m---------------------------------------------------------------------------\u001b[0m",
      "\u001b[0;31mKeyError\u001b[0m                                  Traceback (most recent call last)",
      "File \u001b[0;32m~/anaconda3/lib/python3.11/site-packages/pandas/core/indexes/base.py:3802\u001b[0m, in \u001b[0;36mIndex.get_loc\u001b[0;34m(self, key, method, tolerance)\u001b[0m\n\u001b[1;32m   3801\u001b[0m \u001b[38;5;28;01mtry\u001b[39;00m:\n\u001b[0;32m-> 3802\u001b[0m     \u001b[38;5;28;01mreturn\u001b[39;00m \u001b[38;5;28mself\u001b[39m\u001b[38;5;241m.\u001b[39m_engine\u001b[38;5;241m.\u001b[39mget_loc(casted_key)\n\u001b[1;32m   3803\u001b[0m \u001b[38;5;28;01mexcept\u001b[39;00m \u001b[38;5;167;01mKeyError\u001b[39;00m \u001b[38;5;28;01mas\u001b[39;00m err:\n",
      "File \u001b[0;32m~/anaconda3/lib/python3.11/site-packages/pandas/_libs/index.pyx:138\u001b[0m, in \u001b[0;36mpandas._libs.index.IndexEngine.get_loc\u001b[0;34m()\u001b[0m\n",
      "File \u001b[0;32m~/anaconda3/lib/python3.11/site-packages/pandas/_libs/index.pyx:165\u001b[0m, in \u001b[0;36mpandas._libs.index.IndexEngine.get_loc\u001b[0;34m()\u001b[0m\n",
      "File \u001b[0;32mpandas/_libs/hashtable_class_helper.pxi:5745\u001b[0m, in \u001b[0;36mpandas._libs.hashtable.PyObjectHashTable.get_item\u001b[0;34m()\u001b[0m\n",
      "File \u001b[0;32mpandas/_libs/hashtable_class_helper.pxi:5753\u001b[0m, in \u001b[0;36mpandas._libs.hashtable.PyObjectHashTable.get_item\u001b[0;34m()\u001b[0m\n",
      "\u001b[0;31mKeyError\u001b[0m: 'test_macro_f1_mean'",
      "\nThe above exception was the direct cause of the following exception:\n",
      "\u001b[0;31mKeyError\u001b[0m                                  Traceback (most recent call last)",
      "Cell \u001b[0;32mIn[138], line 16\u001b[0m\n\u001b[1;32m     14\u001b[0m data \u001b[38;5;241m=\u001b[39m results_utils\u001b[38;5;241m.\u001b[39maggregate_grid_results(root_dir\u001b[38;5;241m=\u001b[39mroot, strategy\u001b[38;5;241m=\u001b[39m\u001b[38;5;124m\"\u001b[39m\u001b[38;5;124msasla\u001b[39m\u001b[38;5;124m\"\u001b[39m, dataset\u001b[38;5;241m=\u001b[39m\u001b[38;5;124m\"\u001b[39m\u001b[38;5;124msine1d\u001b[39m\u001b[38;5;124m\"\u001b[39m, task\u001b[38;5;241m=\u001b[39m\u001b[38;5;124m\"\u001b[39m\u001b[38;5;124mregression\u001b[39m\u001b[38;5;124m\"\u001b[39m, metric\u001b[38;5;241m=\u001b[39m\u001b[38;5;124m\"\u001b[39m\u001b[38;5;124mtest_r2\u001b[39m\u001b[38;5;124m\"\u001b[39m, maximize\u001b[38;5;241m=\u001b[39m\u001b[38;5;28;01mTrue\u001b[39;00m)\n\u001b[1;32m     15\u001b[0m \u001b[38;5;28mprint\u001b[39m(\u001b[38;5;124m\"\u001b[39m\u001b[38;5;124msine1d\u001b[39m\u001b[38;5;124m\"\u001b[39m)\n\u001b[0;32m---> 16\u001b[0m \u001b[38;5;28mprint\u001b[39m(\u001b[38;5;124mf\u001b[39m\u001b[38;5;124m\"\u001b[39m\u001b[38;5;124mtau: \u001b[39m\u001b[38;5;132;01m{\u001b[39;00mdata\u001b[38;5;241m.\u001b[39miloc[\u001b[38;5;241m0\u001b[39m][\u001b[38;5;124m'\u001b[39m\u001b[38;5;124msasla_tau\u001b[39m\u001b[38;5;124m'\u001b[39m]\u001b[38;5;132;01m}\u001b[39;00m\u001b[38;5;124m val_f1_macro_mean: \u001b[39m\u001b[38;5;132;01m{\u001b[39;00mdata\u001b[38;5;241m.\u001b[39miloc[\u001b[38;5;241m0\u001b[39m][\u001b[38;5;124m'\u001b[39m\u001b[38;5;124mtest_macro_f1_mean\u001b[39m\u001b[38;5;124m'\u001b[39m]\u001b[38;5;132;01m}\u001b[39;00m\u001b[38;5;124m val_f1_macro_std: \u001b[39m\u001b[38;5;132;01m{\u001b[39;00mdata\u001b[38;5;241m.\u001b[39miloc[\u001b[38;5;241m0\u001b[39m][\u001b[38;5;124m'\u001b[39m\u001b[38;5;124mtest_macro_f1_std\u001b[39m\u001b[38;5;124m'\u001b[39m]\u001b[38;5;132;01m}\u001b[39;00m\u001b[38;5;124m final_labeled: \u001b[39m\u001b[38;5;132;01m{\u001b[39;00mdata\u001b[38;5;241m.\u001b[39miloc[\u001b[38;5;241m0\u001b[39m][\u001b[38;5;124m'\u001b[39m\u001b[38;5;124mfinal_set\u001b[39m\u001b[38;5;124m'\u001b[39m]\u001b[38;5;132;01m}\u001b[39;00m\u001b[38;5;124m\"\u001b[39m)\n\u001b[1;32m     18\u001b[0m data \u001b[38;5;241m=\u001b[39m results_utils\u001b[38;5;241m.\u001b[39maggregate_grid_results(root_dir\u001b[38;5;241m=\u001b[39mroot, strategy\u001b[38;5;241m=\u001b[39m\u001b[38;5;124m\"\u001b[39m\u001b[38;5;124msasla\u001b[39m\u001b[38;5;124m\"\u001b[39m, dataset\u001b[38;5;241m=\u001b[39m\u001b[38;5;124m\"\u001b[39m\u001b[38;5;124menergy\u001b[39m\u001b[38;5;124m\"\u001b[39m, task\u001b[38;5;241m=\u001b[39m\u001b[38;5;124m\"\u001b[39m\u001b[38;5;124mregression\u001b[39m\u001b[38;5;124m\"\u001b[39m, metric\u001b[38;5;241m=\u001b[39m\u001b[38;5;124m\"\u001b[39m\u001b[38;5;124mtest_r2\u001b[39m\u001b[38;5;124m\"\u001b[39m, maximize\u001b[38;5;241m=\u001b[39m\u001b[38;5;28;01mTrue\u001b[39;00m)\n\u001b[1;32m     19\u001b[0m \u001b[38;5;28mprint\u001b[39m(\u001b[38;5;124m\"\u001b[39m\u001b[38;5;124menergy\u001b[39m\u001b[38;5;124m\"\u001b[39m)\n",
      "File \u001b[0;32m~/anaconda3/lib/python3.11/site-packages/pandas/core/series.py:981\u001b[0m, in \u001b[0;36mSeries.__getitem__\u001b[0;34m(self, key)\u001b[0m\n\u001b[1;32m    978\u001b[0m     \u001b[38;5;28;01mreturn\u001b[39;00m \u001b[38;5;28mself\u001b[39m\u001b[38;5;241m.\u001b[39m_values[key]\n\u001b[1;32m    980\u001b[0m \u001b[38;5;28;01melif\u001b[39;00m key_is_scalar:\n\u001b[0;32m--> 981\u001b[0m     \u001b[38;5;28;01mreturn\u001b[39;00m \u001b[38;5;28mself\u001b[39m\u001b[38;5;241m.\u001b[39m_get_value(key)\n\u001b[1;32m    983\u001b[0m \u001b[38;5;28;01mif\u001b[39;00m is_hashable(key):\n\u001b[1;32m    984\u001b[0m     \u001b[38;5;66;03m# Otherwise index.get_value will raise InvalidIndexError\u001b[39;00m\n\u001b[1;32m    985\u001b[0m     \u001b[38;5;28;01mtry\u001b[39;00m:\n\u001b[1;32m    986\u001b[0m         \u001b[38;5;66;03m# For labels that don't resolve as scalars like tuples and frozensets\u001b[39;00m\n",
      "File \u001b[0;32m~/anaconda3/lib/python3.11/site-packages/pandas/core/series.py:1089\u001b[0m, in \u001b[0;36mSeries._get_value\u001b[0;34m(self, label, takeable)\u001b[0m\n\u001b[1;32m   1086\u001b[0m     \u001b[38;5;28;01mreturn\u001b[39;00m \u001b[38;5;28mself\u001b[39m\u001b[38;5;241m.\u001b[39m_values[label]\n\u001b[1;32m   1088\u001b[0m \u001b[38;5;66;03m# Similar to Index.get_value, but we do not fall back to positional\u001b[39;00m\n\u001b[0;32m-> 1089\u001b[0m loc \u001b[38;5;241m=\u001b[39m \u001b[38;5;28mself\u001b[39m\u001b[38;5;241m.\u001b[39mindex\u001b[38;5;241m.\u001b[39mget_loc(label)\n\u001b[1;32m   1090\u001b[0m \u001b[38;5;28;01mreturn\u001b[39;00m \u001b[38;5;28mself\u001b[39m\u001b[38;5;241m.\u001b[39mindex\u001b[38;5;241m.\u001b[39m_get_values_for_loc(\u001b[38;5;28mself\u001b[39m, loc, label)\n",
      "File \u001b[0;32m~/anaconda3/lib/python3.11/site-packages/pandas/core/indexes/base.py:3804\u001b[0m, in \u001b[0;36mIndex.get_loc\u001b[0;34m(self, key, method, tolerance)\u001b[0m\n\u001b[1;32m   3802\u001b[0m     \u001b[38;5;28;01mreturn\u001b[39;00m \u001b[38;5;28mself\u001b[39m\u001b[38;5;241m.\u001b[39m_engine\u001b[38;5;241m.\u001b[39mget_loc(casted_key)\n\u001b[1;32m   3803\u001b[0m \u001b[38;5;28;01mexcept\u001b[39;00m \u001b[38;5;167;01mKeyError\u001b[39;00m \u001b[38;5;28;01mas\u001b[39;00m err:\n\u001b[0;32m-> 3804\u001b[0m     \u001b[38;5;28;01mraise\u001b[39;00m \u001b[38;5;167;01mKeyError\u001b[39;00m(key) \u001b[38;5;28;01mfrom\u001b[39;00m \u001b[38;5;21;01merr\u001b[39;00m\n\u001b[1;32m   3805\u001b[0m \u001b[38;5;28;01mexcept\u001b[39;00m \u001b[38;5;167;01mTypeError\u001b[39;00m:\n\u001b[1;32m   3806\u001b[0m     \u001b[38;5;66;03m# If we have a listlike key, _check_indexing_error will raise\u001b[39;00m\n\u001b[1;32m   3807\u001b[0m     \u001b[38;5;66;03m#  InvalidIndexError. Otherwise we fall through and re-raise\u001b[39;00m\n\u001b[1;32m   3808\u001b[0m     \u001b[38;5;66;03m#  the TypeError.\u001b[39;00m\n\u001b[1;32m   3809\u001b[0m     \u001b[38;5;28mself\u001b[39m\u001b[38;5;241m.\u001b[39m_check_indexing_error(key)\n",
      "\u001b[0;31mKeyError\u001b[0m: 'test_macro_f1_mean'"
     ]
    }
   ],
   "source": [
    "# us \n",
    "data = results_utils.aggregate_grid_results(root_dir=root, strategy=\"sasla\", dataset=\"iris\", task=\"classification\", metric=\"test_macro_f1\", maximize=True)\n",
    "print(\"iris\")\n",
    "print(f\"tau: {data.iloc[0]['sasla_tau']} val_f1_macro_mean: {data.iloc[0]['test_macro_f1_mean']} val_f1_macro_std: {data.iloc[0]['test_macro_f1_std']} final_labeled: {data.iloc[0]['final_set']}\")\n",
    "\n",
    "data = results_utils.aggregate_grid_results(root_dir=root, strategy=\"sasla\", dataset=\"banknote\", task=\"classification\", metric=\"test_macro_f1\", maximize=True)\n",
    "print(\"banknote\")\n",
    "print(f\"tau: {data.iloc[0]['sasla_tau']} val_f1_macro_mean: {data.iloc[0]['test_macro_f1_mean']} val_f1_macro_std: {data.iloc[0]['test_macro_f1_std']} final_labeled: {data.iloc[0]['final_set']}\")\n",
    "\n",
    "data = results_utils.aggregate_grid_results(root_dir=root, strategy=\"sasla\", dataset=\"mnist\", task=\"classification\", metric=\"test_macro_f1\", maximize=True)\n",
    "print(\"mnist\")\n",
    "print(f\"tau: {data.iloc[0]['sasla_tau']} val_f1_macro_mean: {data.iloc[0]['test_macro_f1_mean']} val_f1_macro_std: {data.iloc[0]['test_macro_f1_std']} final_labeled: {data.iloc[0]['final_set']}\")\n",
    "\n",
    "data = results_utils.aggregate_grid_results(root_dir=root, strategy=\"sasla\", dataset=\"sine1d\", task=\"regression\", metric=\"test_r2\", maximize=True)\n",
    "print(\"sine1d\")\n",
    "print(f\"tau: {data.iloc[0]['sasla_tau']} val_f1_macro_mean: {data.iloc[0]['test_macro_f1_mean']} val_f1_macro_std: {data.iloc[0]['test_macro_f1_std']} final_labeled: {data.iloc[0]['final_set']}\")\n",
    "\n",
    "data = results_utils.aggregate_grid_results(root_dir=root, strategy=\"sasla\", dataset=\"energy\", task=\"regression\", metric=\"test_r2\", maximize=True)\n",
    "print(\"energy\")\n",
    "print(f\"tau: {data.iloc[0]['sasla_tau']} val_f1_macro_mean: {data.iloc[0]['test_macro_f1_mean']} val_f1_macro_std: {data.iloc[0]['test_macro_f1_std']} final_labeled: {data.iloc[0]['final_set']}\")\n",
    "\n",
    "data = results_utils.aggregate_grid_results(root_dir=root, strategy=\"sasla\", dataset=\"friedman1\", task=\"regression\", metric=\"test_r2\", maximize=True)\n",
    "print(\"friedman1\")\n",
    "print(f\"tau: {data.iloc[0]['sasla_tau']} val_f1_macro_mean: {data.iloc[0]['test_macro_f1_mean']} val_f1_macro_std: {data.iloc[0]['test_macro_f1_std']} final_labeled: {data.iloc[0]['final_set']}\")\n"
   ]
  },
  {
   "cell_type": "code",
   "execution_count": 102,
   "id": "657dd025",
   "metadata": {},
   "outputs": [
    {
     "ename": "KeyError",
     "evalue": "'final_set'",
     "output_type": "error",
     "traceback": [
      "\u001b[0;31m---------------------------------------------------------------------------\u001b[0m",
      "\u001b[0;31mKeyError\u001b[0m                                  Traceback (most recent call last)",
      "File \u001b[0;32m~/anaconda3/lib/python3.11/site-packages/pandas/core/indexes/base.py:3802\u001b[0m, in \u001b[0;36mIndex.get_loc\u001b[0;34m(self, key, method, tolerance)\u001b[0m\n\u001b[1;32m   3801\u001b[0m \u001b[38;5;28;01mtry\u001b[39;00m:\n\u001b[0;32m-> 3802\u001b[0m     \u001b[38;5;28;01mreturn\u001b[39;00m \u001b[38;5;28mself\u001b[39m\u001b[38;5;241m.\u001b[39m_engine\u001b[38;5;241m.\u001b[39mget_loc(casted_key)\n\u001b[1;32m   3803\u001b[0m \u001b[38;5;28;01mexcept\u001b[39;00m \u001b[38;5;167;01mKeyError\u001b[39;00m \u001b[38;5;28;01mas\u001b[39;00m err:\n",
      "File \u001b[0;32m~/anaconda3/lib/python3.11/site-packages/pandas/_libs/index.pyx:138\u001b[0m, in \u001b[0;36mpandas._libs.index.IndexEngine.get_loc\u001b[0;34m()\u001b[0m\n",
      "File \u001b[0;32m~/anaconda3/lib/python3.11/site-packages/pandas/_libs/index.pyx:165\u001b[0m, in \u001b[0;36mpandas._libs.index.IndexEngine.get_loc\u001b[0;34m()\u001b[0m\n",
      "File \u001b[0;32mpandas/_libs/hashtable_class_helper.pxi:5745\u001b[0m, in \u001b[0;36mpandas._libs.hashtable.PyObjectHashTable.get_item\u001b[0;34m()\u001b[0m\n",
      "File \u001b[0;32mpandas/_libs/hashtable_class_helper.pxi:5753\u001b[0m, in \u001b[0;36mpandas._libs.hashtable.PyObjectHashTable.get_item\u001b[0;34m()\u001b[0m\n",
      "\u001b[0;31mKeyError\u001b[0m: 'final_set'",
      "\nThe above exception was the direct cause of the following exception:\n",
      "\u001b[0;31mKeyError\u001b[0m                                  Traceback (most recent call last)",
      "Cell \u001b[0;32mIn[102], line 1\u001b[0m\n\u001b[0;32m----> 1\u001b[0m \u001b[38;5;28mprint\u001b[39m(\u001b[38;5;124mf\u001b[39m\u001b[38;5;124m\"\u001b[39m\u001b[38;5;124mepochs: \u001b[39m\u001b[38;5;132;01m{\u001b[39;00mdata\u001b[38;5;241m.\u001b[39miloc[\u001b[38;5;241m0\u001b[39m][\u001b[38;5;124m'\u001b[39m\u001b[38;5;124mepochs\u001b[39m\u001b[38;5;124m'\u001b[39m]\u001b[38;5;132;01m}\u001b[39;00m\u001b[38;5;124m us_k_per_round: \u001b[39m\u001b[38;5;132;01m{\u001b[39;00mdata\u001b[38;5;241m.\u001b[39miloc[\u001b[38;5;241m0\u001b[39m][\u001b[38;5;124m'\u001b[39m\u001b[38;5;124mus_k_per_round\u001b[39m\u001b[38;5;124m'\u001b[39m]\u001b[38;5;132;01m}\u001b[39;00m\u001b[38;5;124m initial_labeled: \u001b[39m\u001b[38;5;132;01m{\u001b[39;00mdata\u001b[38;5;241m.\u001b[39miloc[\u001b[38;5;241m0\u001b[39m][\u001b[38;5;124m'\u001b[39m\u001b[38;5;124minitial_labeled\u001b[39m\u001b[38;5;124m'\u001b[39m]\u001b[38;5;132;01m}\u001b[39;00m\u001b[38;5;124m val_f1_macro_mean: \u001b[39m\u001b[38;5;132;01m{\u001b[39;00mdata\u001b[38;5;241m.\u001b[39miloc[\u001b[38;5;241m0\u001b[39m][\u001b[38;5;124m'\u001b[39m\u001b[38;5;124mtest_macro_f1_mean\u001b[39m\u001b[38;5;124m'\u001b[39m]\u001b[38;5;132;01m}\u001b[39;00m\u001b[38;5;124m val_f1_macro_std: \u001b[39m\u001b[38;5;132;01m{\u001b[39;00mdata\u001b[38;5;241m.\u001b[39miloc[\u001b[38;5;241m0\u001b[39m][\u001b[38;5;124m'\u001b[39m\u001b[38;5;124mtest_macro_f1_std\u001b[39m\u001b[38;5;124m'\u001b[39m]\u001b[38;5;132;01m}\u001b[39;00m\u001b[38;5;124m final_labeled: \u001b[39m\u001b[38;5;132;01m{\u001b[39;00mdata\u001b[38;5;241m.\u001b[39miloc[\u001b[38;5;241m0\u001b[39m][\u001b[38;5;124m'\u001b[39m\u001b[38;5;124mfinal_set\u001b[39m\u001b[38;5;124m'\u001b[39m]\u001b[38;5;132;01m}\u001b[39;00m\u001b[38;5;124m\"\u001b[39m)\n",
      "File \u001b[0;32m~/anaconda3/lib/python3.11/site-packages/pandas/core/series.py:981\u001b[0m, in \u001b[0;36mSeries.__getitem__\u001b[0;34m(self, key)\u001b[0m\n\u001b[1;32m    978\u001b[0m     \u001b[38;5;28;01mreturn\u001b[39;00m \u001b[38;5;28mself\u001b[39m\u001b[38;5;241m.\u001b[39m_values[key]\n\u001b[1;32m    980\u001b[0m \u001b[38;5;28;01melif\u001b[39;00m key_is_scalar:\n\u001b[0;32m--> 981\u001b[0m     \u001b[38;5;28;01mreturn\u001b[39;00m \u001b[38;5;28mself\u001b[39m\u001b[38;5;241m.\u001b[39m_get_value(key)\n\u001b[1;32m    983\u001b[0m \u001b[38;5;28;01mif\u001b[39;00m is_hashable(key):\n\u001b[1;32m    984\u001b[0m     \u001b[38;5;66;03m# Otherwise index.get_value will raise InvalidIndexError\u001b[39;00m\n\u001b[1;32m    985\u001b[0m     \u001b[38;5;28;01mtry\u001b[39;00m:\n\u001b[1;32m    986\u001b[0m         \u001b[38;5;66;03m# For labels that don't resolve as scalars like tuples and frozensets\u001b[39;00m\n",
      "File \u001b[0;32m~/anaconda3/lib/python3.11/site-packages/pandas/core/series.py:1089\u001b[0m, in \u001b[0;36mSeries._get_value\u001b[0;34m(self, label, takeable)\u001b[0m\n\u001b[1;32m   1086\u001b[0m     \u001b[38;5;28;01mreturn\u001b[39;00m \u001b[38;5;28mself\u001b[39m\u001b[38;5;241m.\u001b[39m_values[label]\n\u001b[1;32m   1088\u001b[0m \u001b[38;5;66;03m# Similar to Index.get_value, but we do not fall back to positional\u001b[39;00m\n\u001b[0;32m-> 1089\u001b[0m loc \u001b[38;5;241m=\u001b[39m \u001b[38;5;28mself\u001b[39m\u001b[38;5;241m.\u001b[39mindex\u001b[38;5;241m.\u001b[39mget_loc(label)\n\u001b[1;32m   1090\u001b[0m \u001b[38;5;28;01mreturn\u001b[39;00m \u001b[38;5;28mself\u001b[39m\u001b[38;5;241m.\u001b[39mindex\u001b[38;5;241m.\u001b[39m_get_values_for_loc(\u001b[38;5;28mself\u001b[39m, loc, label)\n",
      "File \u001b[0;32m~/anaconda3/lib/python3.11/site-packages/pandas/core/indexes/base.py:3804\u001b[0m, in \u001b[0;36mIndex.get_loc\u001b[0;34m(self, key, method, tolerance)\u001b[0m\n\u001b[1;32m   3802\u001b[0m     \u001b[38;5;28;01mreturn\u001b[39;00m \u001b[38;5;28mself\u001b[39m\u001b[38;5;241m.\u001b[39m_engine\u001b[38;5;241m.\u001b[39mget_loc(casted_key)\n\u001b[1;32m   3803\u001b[0m \u001b[38;5;28;01mexcept\u001b[39;00m \u001b[38;5;167;01mKeyError\u001b[39;00m \u001b[38;5;28;01mas\u001b[39;00m err:\n\u001b[0;32m-> 3804\u001b[0m     \u001b[38;5;28;01mraise\u001b[39;00m \u001b[38;5;167;01mKeyError\u001b[39;00m(key) \u001b[38;5;28;01mfrom\u001b[39;00m \u001b[38;5;21;01merr\u001b[39;00m\n\u001b[1;32m   3805\u001b[0m \u001b[38;5;28;01mexcept\u001b[39;00m \u001b[38;5;167;01mTypeError\u001b[39;00m:\n\u001b[1;32m   3806\u001b[0m     \u001b[38;5;66;03m# If we have a listlike key, _check_indexing_error will raise\u001b[39;00m\n\u001b[1;32m   3807\u001b[0m     \u001b[38;5;66;03m#  InvalidIndexError. Otherwise we fall through and re-raise\u001b[39;00m\n\u001b[1;32m   3808\u001b[0m     \u001b[38;5;66;03m#  the TypeError.\u001b[39;00m\n\u001b[1;32m   3809\u001b[0m     \u001b[38;5;28mself\u001b[39m\u001b[38;5;241m.\u001b[39m_check_indexing_error(key)\n",
      "\u001b[0;31mKeyError\u001b[0m: 'final_set'"
     ]
    }
   ],
   "source": []
  },
  {
   "cell_type": "code",
   "execution_count": null,
   "id": "edbb6feb",
   "metadata": {},
   "outputs": [],
   "source": []
  }
 ],
 "metadata": {
  "kernelspec": {
   "display_name": "base",
   "language": "python",
   "name": "python3"
  },
  "language_info": {
   "codemirror_mode": {
    "name": "ipython",
    "version": 3
   },
   "file_extension": ".py",
   "mimetype": "text/x-python",
   "name": "python",
   "nbconvert_exporter": "python",
   "pygments_lexer": "ipython3",
   "version": "3.11.3"
  }
 },
 "nbformat": 4,
 "nbformat_minor": 5
}
